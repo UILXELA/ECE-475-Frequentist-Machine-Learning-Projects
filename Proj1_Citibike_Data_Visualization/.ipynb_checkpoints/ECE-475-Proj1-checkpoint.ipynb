{
 "cells": [
  {
   "cell_type": "code",
   "execution_count": 208,
   "metadata": {
    "collapsed": true
   },
   "outputs": [],
   "source": [
    "#ECE-475-HW!\n",
    "#Zheng Liu\n",
    "#An analysis of Citibike service\n",
    "#Based on the data of all the rides in July 2018\n",
    "#Downloaded from Citibike official website"
   ]
  },
  {
   "cell_type": "code",
   "execution_count": 108,
   "metadata": {
    "collapsed": true
   },
   "outputs": [],
   "source": [
    "import sys\n",
    "import matplotlib.pyplot as plt\n",
    "import seaborn as sns\n",
    "import numpy as np\n",
    "import pandas as pd\n",
    "import geopy as gp\n",
    "from geopy import distance \n",
    "#!{sys.executable} -m pip install folium\n",
    "import folium"
   ]
  },
  {
   "cell_type": "code",
   "execution_count": 4,
   "metadata": {},
   "outputs": [
    {
     "name": "stdout",
     "output_type": "stream",
     "text": [
      "Total number of use is 1913625.\n"
     ]
    },
    {
     "data": {
      "text/html": [
       "<div>\n",
       "<style scoped>\n",
       "    .dataframe tbody tr th:only-of-type {\n",
       "        vertical-align: middle;\n",
       "    }\n",
       "\n",
       "    .dataframe tbody tr th {\n",
       "        vertical-align: top;\n",
       "    }\n",
       "\n",
       "    .dataframe thead th {\n",
       "        text-align: right;\n",
       "    }\n",
       "</style>\n",
       "<table border=\"1\" class=\"dataframe\">\n",
       "  <thead>\n",
       "    <tr style=\"text-align: right;\">\n",
       "      <th></th>\n",
       "      <th>tripduration</th>\n",
       "      <th>starttime</th>\n",
       "      <th>stoptime</th>\n",
       "      <th>start station id</th>\n",
       "      <th>start station name</th>\n",
       "      <th>start station latitude</th>\n",
       "      <th>start station longitude</th>\n",
       "      <th>end station id</th>\n",
       "      <th>end station name</th>\n",
       "      <th>end station latitude</th>\n",
       "      <th>end station longitude</th>\n",
       "      <th>bikeid</th>\n",
       "      <th>usertype</th>\n",
       "      <th>birth year</th>\n",
       "      <th>gender</th>\n",
       "    </tr>\n",
       "  </thead>\n",
       "  <tbody>\n",
       "    <tr>\n",
       "      <th>0</th>\n",
       "      <td>500</td>\n",
       "      <td>2018-07-01 00:33:51.2640</td>\n",
       "      <td>2018-07-01 00:42:12.0280</td>\n",
       "      <td>72</td>\n",
       "      <td>W 52 St &amp; 11 Ave</td>\n",
       "      <td>40.767272</td>\n",
       "      <td>-73.993929</td>\n",
       "      <td>3236</td>\n",
       "      <td>W 42 St &amp; Dyer Ave</td>\n",
       "      <td>40.758985</td>\n",
       "      <td>-73.993800</td>\n",
       "      <td>16583</td>\n",
       "      <td>Subscriber</td>\n",
       "      <td>1981</td>\n",
       "      <td>1</td>\n",
       "    </tr>\n",
       "    <tr>\n",
       "      <th>1</th>\n",
       "      <td>455</td>\n",
       "      <td>2018-07-01 02:06:54.0270</td>\n",
       "      <td>2018-07-01 02:14:29.0900</td>\n",
       "      <td>72</td>\n",
       "      <td>W 52 St &amp; 11 Ave</td>\n",
       "      <td>40.767272</td>\n",
       "      <td>-73.993929</td>\n",
       "      <td>529</td>\n",
       "      <td>W 42 St &amp; 8 Ave</td>\n",
       "      <td>40.757570</td>\n",
       "      <td>-73.990985</td>\n",
       "      <td>31481</td>\n",
       "      <td>Subscriber</td>\n",
       "      <td>1988</td>\n",
       "      <td>1</td>\n",
       "    </tr>\n",
       "    <tr>\n",
       "      <th>2</th>\n",
       "      <td>1080</td>\n",
       "      <td>2018-07-01 02:09:16.4640</td>\n",
       "      <td>2018-07-01 02:27:17.0290</td>\n",
       "      <td>72</td>\n",
       "      <td>W 52 St &amp; 11 Ave</td>\n",
       "      <td>40.767272</td>\n",
       "      <td>-73.993929</td>\n",
       "      <td>453</td>\n",
       "      <td>W 22 St &amp; 8 Ave</td>\n",
       "      <td>40.744751</td>\n",
       "      <td>-73.999154</td>\n",
       "      <td>25004</td>\n",
       "      <td>Subscriber</td>\n",
       "      <td>1982</td>\n",
       "      <td>2</td>\n",
       "    </tr>\n",
       "    <tr>\n",
       "      <th>3</th>\n",
       "      <td>632</td>\n",
       "      <td>2018-07-01 02:55:04.5870</td>\n",
       "      <td>2018-07-01 03:05:36.7910</td>\n",
       "      <td>72</td>\n",
       "      <td>W 52 St &amp; 11 Ave</td>\n",
       "      <td>40.767272</td>\n",
       "      <td>-73.993929</td>\n",
       "      <td>465</td>\n",
       "      <td>Broadway &amp; W 41 St</td>\n",
       "      <td>40.755136</td>\n",
       "      <td>-73.986580</td>\n",
       "      <td>25867</td>\n",
       "      <td>Subscriber</td>\n",
       "      <td>1986</td>\n",
       "      <td>1</td>\n",
       "    </tr>\n",
       "    <tr>\n",
       "      <th>4</th>\n",
       "      <td>1676</td>\n",
       "      <td>2018-07-01 03:24:27.4350</td>\n",
       "      <td>2018-07-01 03:52:23.7760</td>\n",
       "      <td>72</td>\n",
       "      <td>W 52 St &amp; 11 Ave</td>\n",
       "      <td>40.767272</td>\n",
       "      <td>-73.993929</td>\n",
       "      <td>3425</td>\n",
       "      <td>2 Ave &amp; E 104 St</td>\n",
       "      <td>40.789210</td>\n",
       "      <td>-73.943708</td>\n",
       "      <td>31351</td>\n",
       "      <td>Subscriber</td>\n",
       "      <td>1992</td>\n",
       "      <td>1</td>\n",
       "    </tr>\n",
       "  </tbody>\n",
       "</table>\n",
       "</div>"
      ],
      "text/plain": [
       "   tripduration                 starttime                  stoptime  \\\n",
       "0           500  2018-07-01 00:33:51.2640  2018-07-01 00:42:12.0280   \n",
       "1           455  2018-07-01 02:06:54.0270  2018-07-01 02:14:29.0900   \n",
       "2          1080  2018-07-01 02:09:16.4640  2018-07-01 02:27:17.0290   \n",
       "3           632  2018-07-01 02:55:04.5870  2018-07-01 03:05:36.7910   \n",
       "4          1676  2018-07-01 03:24:27.4350  2018-07-01 03:52:23.7760   \n",
       "\n",
       "   start station id start station name  start station latitude  \\\n",
       "0                72   W 52 St & 11 Ave               40.767272   \n",
       "1                72   W 52 St & 11 Ave               40.767272   \n",
       "2                72   W 52 St & 11 Ave               40.767272   \n",
       "3                72   W 52 St & 11 Ave               40.767272   \n",
       "4                72   W 52 St & 11 Ave               40.767272   \n",
       "\n",
       "   start station longitude  end station id    end station name  \\\n",
       "0               -73.993929            3236  W 42 St & Dyer Ave   \n",
       "1               -73.993929             529     W 42 St & 8 Ave   \n",
       "2               -73.993929             453     W 22 St & 8 Ave   \n",
       "3               -73.993929             465  Broadway & W 41 St   \n",
       "4               -73.993929            3425    2 Ave & E 104 St   \n",
       "\n",
       "   end station latitude  end station longitude  bikeid    usertype  \\\n",
       "0             40.758985             -73.993800   16583  Subscriber   \n",
       "1             40.757570             -73.990985   31481  Subscriber   \n",
       "2             40.744751             -73.999154   25004  Subscriber   \n",
       "3             40.755136             -73.986580   25867  Subscriber   \n",
       "4             40.789210             -73.943708   31351  Subscriber   \n",
       "\n",
       "   birth year  gender  \n",
       "0        1981       1  \n",
       "1        1988       1  \n",
       "2        1982       2  \n",
       "3        1986       1  \n",
       "4        1992       1  "
      ]
     },
     "execution_count": 4,
     "metadata": {},
     "output_type": "execute_result"
    }
   ],
   "source": [
    "#Read Data\n",
    "citi = pd.read_csv('/Users/Alex/Documents/ML/201807-citibike-tripdata.csv')\n",
    "print(\"Total number of use is {}.\".format(citi.shape[0]))\n",
    "citi.head()"
   ]
  },
  {
   "cell_type": "code",
   "execution_count": 197,
   "metadata": {},
   "outputs": [
    {
     "data": {
      "image/png": "[encoded data removed]",
      "text/plain": [
       "<matplotlib.figure.Figure at 0x1a1b13e1d0>"
      ]
     },
     "metadata": {},
     "output_type": "display_data"
    }
   ],
   "source": [
    "#Age Distribution\n",
    "sns.set(color_codes=True)\n",
    "sns.distplot(2018-citi['birth year'], kde = False, rug = False);\n",
    "plt.xticks(np.arange(0, 140, 10))\n",
    "plt.ylabel(\"Count\")\n",
    "plt.xlabel(\"Age\")\n",
    "plt.title('Distribution by age')\n",
    "plt.show()"
   ]
  },
  {
   "cell_type": "code",
   "execution_count": 195,
   "metadata": {},
   "outputs": [
    {
     "data": {
      "image/png": "[encoded data removed]",
      "text/plain": [
       "<matplotlib.figure.Figure at 0x1a1b6ed550>"
      ]
     },
     "metadata": {},
     "output_type": "display_data"
    },
    {
     "data": {
      "image/png": "[encoded data removed]",
      "text/plain": [
       "<matplotlib.figure.Figure at 0x11427c438>"
      ]
     },
     "metadata": {},
     "output_type": "display_data"
    }
   ],
   "source": [
    "#Gender\n",
    "#sns.distplot(citi['gender'], kde = False, rug = False);\n",
    "sns.countplot(x=\"gender\", data=citi)\n",
    "plt.xticks(np.arange(3), ('Unknown', 'Male', 'Female'))\n",
    "plt.ylabel(\"Count\")\n",
    "plt.title('Distribution by Gender')\n",
    "plt.show()\n",
    "sns.countplot(x=\"usertype\", data=citi)\n",
    "plt.ylabel(\"Count\")\n",
    "plt.title('Distribution by User Type')\n",
    "plt.show()"
   ]
  },
  {
   "cell_type": "code",
   "execution_count": 193,
   "metadata": {},
   "outputs": [
    {
     "data": {
      "image/png": "[encoded data removed]",
      "text/plain": [
       "<matplotlib.figure.Figure at 0x1a19129b70>"
      ]
     },
     "metadata": {},
     "output_type": "display_data"
    }
   ],
   "source": [
    "#Gener vs duration\n",
    "sns.kdeplot(citi[(citi['gender']==1) & (citi['tripduration']<7200)]['tripduration'], shade=True)\n",
    "sns.kdeplot(citi[(citi['gender']==2) & (citi['tripduration']<7200)]['tripduration'], shade=True)\n",
    "plt.title('Distribution of Number of Uses of Stations')\n",
    "plt.xlabel('duration (seconds)')\n",
    "plt.yticks([])\n",
    "plt.legend(['Male', 'Female'])\n",
    "#sns.relplot(x=\"gender\", y=\"tripduration\", data = citi[citi.tripduration<7200]);\n",
    "plt.show()"
   ]
  },
  {
   "cell_type": "code",
   "execution_count": 198,
   "metadata": {},
   "outputs": [
    {
     "name": "stdout",
     "output_type": "stream",
     "text": [
      "Below is the list of trips (combination of stations basically)\n",
      "\n",
      "\n",
      "(3254, 3479)    861\n",
      "(3479, 3254)    859\n",
      "(2006, 3282)    714\n",
      "(3254, 3182)    709\n",
      "(3182, 3254)    705\n",
      "(514, 426)      649\n",
      "(281, 2006)     631\n",
      "(432, 3263)     595\n",
      "(460, 3093)     567\n",
      "(514, 3256)     560\n",
      "(3093, 460)     556\n",
      "(3256, 426)     529\n",
      "(281, 3282)     525\n",
      "(3479, 3182)    520\n",
      "(3182, 3479)    515\n",
      "(2006, 3137)    513\n",
      "(426, 514)      487\n",
      "(435, 509)      471\n",
      "(519, 492)      432\n",
      "(519, 498)      431\n",
      "(459, 426)      427\n",
      "(3002, 427)     426\n",
      "(2008, 3002)    426\n",
      "(2006, 3374)    425\n",
      "(3002, 2008)    419\n",
      "(3256, 2008)    417\n",
      "(426, 2008)     410\n",
      "(387, 232)      410\n",
      "(3351, 3318)    404\n",
      "(321, 387)      402\n",
      "               ... \n",
      "(540, 3107)       1\n",
      "(3676, 399)       1\n",
      "(3535, 3161)      1\n",
      "(3496, 472)       1\n",
      "(238, 461)        1\n",
      "(3284, 3318)      1\n",
      "(3333, 3413)      1\n",
      "(3322, 3082)      1\n",
      "(341, 308)        1\n",
      "(401, 3382)       1\n",
      "(3502, 3143)      1\n",
      "(3002, 3648)      1\n",
      "(2008, 406)       1\n",
      "(3469, 3121)      1\n",
      "(3135, 3514)      1\n",
      "(528, 2008)       1\n",
      "(128, 3306)       1\n",
      "(251, 3581)       1\n",
      "(473, 3339)       1\n",
      "(3175, 501)       1\n",
      "(3332, 3579)      1\n",
      "(3085, 3574)      1\n",
      "(418, 3300)       1\n",
      "(3100, 3489)      1\n",
      "(3048, 3364)      1\n",
      "(3130, 3469)      1\n",
      "(307, 3456)       1\n",
      "(3317, 3467)      1\n",
      "(3410, 146)       1\n",
      "(3306, 3337)      1\n",
      "Name: trip, Length: 185435, dtype: int64\n",
      "\n",
      "\n",
      "\n",
      "\n",
      "\n",
      "\n",
      "\n",
      "\n",
      "Start station of the most popular trip is 448    Soissons Landing\n",
      "\n",
      "End station of the most popular trip is 627    Picnic Point\n",
      "\n",
      "\n",
      "\n",
      "The distance between them is 0.74 mile\n"
     ]
    }
   ],
   "source": [
    "#geo stuff\n",
    "\n",
    "#If start_station == end_station, exclude\n",
    "citi['trip'] = citi[citi['start station id']!=citi['end station id']][['start station id','end station id']].apply(tuple,axis=1)\n",
    "\n",
    "count = citi['trip'].value_counts()\n",
    "citi['trip'].drop_duplicates();\n",
    "print(\"Below is the list of trips (combination of stations basically)\\n\\n\")\n",
    "print(count)\n",
    "print('\\n\\n\\n\\n\\n\\n')\n",
    "\n",
    "popular = count.idxmax()\n",
    "stationsjson = pd.read_json('/Users/Alex/Documents/ML/stations.json');\n",
    "stations = pd.io.json.json_normalize(stationsjson['stationBeanList']);\n",
    "sstation=stations[stations.id == popular[0]]['stAddress1']\n",
    "estation=stations[stations.id == popular[1]]['stAddress1']\n",
    "\n",
    "\n",
    "print(\"\\nStart station of the most popular trip is \" + str(sstation).split('\\n')[0])\n",
    "print(\"\\nEnd station of the most popular trip is \" + str(estation).split('\\n')[0])\n",
    "loc1=stations[stations.id == popular[0]][['latitude','longitude']].apply(tuple,axis=1)\n",
    "loc2=stations[stations.id == popular[1]][['latitude','longitude']].apply(tuple,axis=1)\n",
    "dis = distance.distance(loc1,loc2).miles\n",
    "print(\"\\n\\n\\nThe distance between them is {:.2f} mile\".format(dis))\n"
   ]
  },
  {
   "cell_type": "code",
   "execution_count": 173,
   "metadata": {},
   "outputs": [
    {
     "name": "stdout",
     "output_type": "stream",
     "text": [
      "\n",
      "\n",
      "\n",
      "I don't know where they are. So I included a map to show them.\n"
     ]
    },
    {
     "data": {
      "text/html": [
       "<div style=\"width:100%;\"><div style=\"position:relative;width:100%;height:0;padding-bottom:60%;\"><iframe src=\"data:text/html;charset=utf-8;base64,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\" style=\"position:absolute;width:100%;height:100%;left:0;top:0;border:none !important;\" allowfullscreen webkitallowfullscreen mozallowfullscreen></iframe></div></div>"
      ],
      "text/plain": [
       "<folium.folium.Map at 0x1a2aa3c588>"
      ]
     },
     "execution_count": 173,
     "metadata": {},
     "output_type": "execute_result"
    }
   ],
   "source": [
    "\n",
    "print(\"\\n\\n\\nI don't know where they are. So I included a map to show them.\")\n",
    "loc_1 = loc1.reset_index().rename(columns={0:'A'})\n",
    "loc_2 = loc1.reset_index().rename(columns={0:'A'})\n",
    "\n",
    "m = folium.Map(location=[40.75, -74], tiles=\"Mapbox Bright\", zoom_start=11)\n",
    "folium.Marker(loc_1.at[0,'A'], \"Start\").add_to(m)\n",
    "folium.Marker(loc_2.at[0,'A'], \"End\").add_to(m)\n",
    "m "
   ]
  },
  {
   "cell_type": "code",
   "execution_count": 181,
   "metadata": {},
   "outputs": [
    {
     "data": {
      "image/png": "[encoded data removed]",
      "text/plain": [
       "<matplotlib.figure.Figure at 0x1a1b18bf60>"
      ]
     },
     "metadata": {},
     "output_type": "display_data"
    },
    {
     "name": "stdout",
     "output_type": "stream",
     "text": [
      "\n",
      "Below is the list of stations with their id on the left and # of use on the right\n",
      "\n"
     ]
    },
    {
     "data": {
      "text/plain": [
       "519     14888\n",
       "426     12370\n",
       "514     11249\n",
       "497     10974\n",
       "281     10476\n",
       "435     10435\n",
       "499      9708\n",
       "402      9576\n",
       "3002     9545\n",
       "2006     9495\n",
       "459      9490\n",
       "285      9372\n",
       "368      9215\n",
       "358      8914\n",
       "477      8658\n",
       "490      8289\n",
       "505      8283\n",
       "387      8266\n",
       "3256     8180\n",
       "3255     8132\n",
       "457      8082\n",
       "293      7985\n",
       "327      7905\n",
       "492      7839\n",
       "151      7785\n",
       "382      7773\n",
       "3660     7664\n",
       "229      7639\n",
       "168      7439\n",
       "3641     7382\n",
       "        ...  \n",
       "3587      279\n",
       "3453      253\n",
       "3492      252\n",
       "3337      252\n",
       "3647      250\n",
       "3044      248\n",
       "3631      242\n",
       "3692      226\n",
       "3661      226\n",
       "3590      209\n",
       "3586      205\n",
       "3669      203\n",
       "3564      192\n",
       "3557      183\n",
       "3559      169\n",
       "3596      161\n",
       "2005      159\n",
       "3512      152\n",
       "3567      151\n",
       "3620      129\n",
       "3333      121\n",
       "3468       75\n",
       "3434       40\n",
       "3240       20\n",
       "3683       17\n",
       "3432       17\n",
       "3485       13\n",
       "3036        2\n",
       "3650        1\n",
       "439         1\n",
       "Name: start station id, Length: 768, dtype: int64"
      ]
     },
     "execution_count": 181,
     "metadata": {},
     "output_type": "execute_result"
    }
   ],
   "source": [
    "#geo continued\n",
    "count2 = citi['start station id'].value_counts()\n",
    "count2.reset_index().plot(y = 1, legend=None)\n",
    "plt.title('Distribution of Number of Uses of Stations')\n",
    "plt.ylabel('# of use')\n",
    "plt.xticks([])\n",
    "plt.show()\n",
    "\n",
    "print(\"\\nBelow is the list of stations with their id on the left and # of use on the right\\n\")\n",
    "count2\n"
   ]
  },
  {
   "cell_type": "code",
   "execution_count": 202,
   "metadata": {},
   "outputs": [
    {
     "name": "stdout",
     "output_type": "stream",
     "text": [
      "\n",
      "Most popular station is 252    Pershing Square North\n",
      "\n",
      "Least popular station is 8D OPS 01\n"
     ]
    },
    {
     "data": {
      "text/html": [
       "<div style=\"width:100%;\"><div style=\"position:relative;width:100%;height:0;padding-bottom:60%;\"><iframe src=\"data:text/html;charset=utf-8;base64,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\" style=\"position:absolute;width:100%;height:100%;left:0;top:0;border:none !important;\" allowfullscreen webkitallowfullscreen mozallowfullscreen></iframe></div></div>"
      ],
      "text/plain": [
       "<folium.folium.Map at 0x1a1b6ee748>"
      ]
     },
     "execution_count": 202,
     "metadata": {},
     "output_type": "execute_result"
    }
   ],
   "source": [
    "id1 = count2.idxmax()\n",
    "id2 = count2[count2>1].idxmin()\n",
    "\n",
    "most_popular = stations[stations.id == id1]['stAddress1']\n",
    "least_popular = citi[citi['start station id']==id2].reset_index().loc[0].at['start station name']\n",
    "\n",
    "print(\"\\nMost popular station is \" + str(most_popular).split('\\n')[0])\n",
    "print(\"\\nLeast popular station is \" + str(least_popular).split('\\n')[0])\n",
    "\n",
    "m = folium.Map(location=[40.75, -74], tiles=\"Mapbox Bright\", zoom_start=11)\n",
    "folium.Marker((citi[citi['start station id']==id1].reset_index().loc[0].at['start station latitude'], citi[citi['start station id']==id1].reset_index().loc[0].at['start station longitude']), \"Most Popular\").add_to(m)\n",
    "folium.Marker((citi[citi['start station id']==id2].reset_index().loc[0].at['start station latitude'], citi[citi['start station id']==id2].reset_index().loc[0].at['start station longitude']), \"Least Popular\").add_to(m)\n",
    "m \n",
    "\n"
   ]
  },
  {
   "cell_type": "code",
   "execution_count": 204,
   "metadata": {},
   "outputs": [
    {
     "name": "stdout",
     "output_type": "stream",
     "text": [
      "\n",
      "Compare the most popular stations and the ones with the most docks, emmmmm\n",
      "\n"
     ]
    },
    {
     "data": {
      "text/html": [
       "<div>\n",
       "<style scoped>\n",
       "    .dataframe tbody tr th:only-of-type {\n",
       "        vertical-align: middle;\n",
       "    }\n",
       "\n",
       "    .dataframe tbody tr th {\n",
       "        vertical-align: top;\n",
       "    }\n",
       "\n",
       "    .dataframe thead th {\n",
       "        text-align: right;\n",
       "    }\n",
       "</style>\n",
       "<table border=\"1\" class=\"dataframe\">\n",
       "  <thead>\n",
       "    <tr style=\"text-align: right;\">\n",
       "      <th></th>\n",
       "      <th>station id</th>\n",
       "      <th>usage#</th>\n",
       "      <th>station id</th>\n",
       "      <th>dock#</th>\n",
       "    </tr>\n",
       "  </thead>\n",
       "  <tbody>\n",
       "    <tr>\n",
       "      <th>0</th>\n",
       "      <td>519</td>\n",
       "      <td>14888</td>\n",
       "      <td>393</td>\n",
       "      <td>67</td>\n",
       "    </tr>\n",
       "    <tr>\n",
       "      <th>1</th>\n",
       "      <td>426</td>\n",
       "      <td>12370</td>\n",
       "      <td>404</td>\n",
       "      <td>63</td>\n",
       "    </tr>\n",
       "    <tr>\n",
       "      <th>2</th>\n",
       "      <td>514</td>\n",
       "      <td>11249</td>\n",
       "      <td>11</td>\n",
       "      <td>62</td>\n",
       "    </tr>\n",
       "    <tr>\n",
       "      <th>3</th>\n",
       "      <td>497</td>\n",
       "      <td>10974</td>\n",
       "      <td>252</td>\n",
       "      <td>61</td>\n",
       "    </tr>\n",
       "    <tr>\n",
       "      <th>4</th>\n",
       "      <td>281</td>\n",
       "      <td>10476</td>\n",
       "      <td>229</td>\n",
       "      <td>61</td>\n",
       "    </tr>\n",
       "    <tr>\n",
       "      <th>5</th>\n",
       "      <td>435</td>\n",
       "      <td>10435</td>\n",
       "      <td>234</td>\n",
       "      <td>59</td>\n",
       "    </tr>\n",
       "    <tr>\n",
       "      <th>6</th>\n",
       "      <td>499</td>\n",
       "      <td>9708</td>\n",
       "      <td>250</td>\n",
       "      <td>59</td>\n",
       "    </tr>\n",
       "    <tr>\n",
       "      <th>7</th>\n",
       "      <td>402</td>\n",
       "      <td>9576</td>\n",
       "      <td>228</td>\n",
       "      <td>59</td>\n",
       "    </tr>\n",
       "    <tr>\n",
       "      <th>8</th>\n",
       "      <td>3002</td>\n",
       "      <td>9545</td>\n",
       "      <td>803</td>\n",
       "      <td>59</td>\n",
       "    </tr>\n",
       "    <tr>\n",
       "      <th>9</th>\n",
       "      <td>2006</td>\n",
       "      <td>9495</td>\n",
       "      <td>217</td>\n",
       "      <td>59</td>\n",
       "    </tr>\n",
       "  </tbody>\n",
       "</table>\n",
       "</div>"
      ],
      "text/plain": [
       "   station id  usage#  station id  dock#\n",
       "0         519   14888         393     67\n",
       "1         426   12370         404     63\n",
       "2         514   11249          11     62\n",
       "3         497   10974         252     61\n",
       "4         281   10476         229     61\n",
       "5         435   10435         234     59\n",
       "6         499    9708         250     59\n",
       "7         402    9576         228     59\n",
       "8        3002    9545         803     59\n",
       "9        2006    9495         217     59"
      ]
     },
     "execution_count": 204,
     "metadata": {},
     "output_type": "execute_result"
    }
   ],
   "source": [
    "#Efficiency of docks\n",
    "print(\"\\nCompare the most popular stations and the ones with the most docks, emmmmm\\n\")\n",
    "dockN = stations.sort_values(by='totalDocks',ascending = False)['totalDocks'].reset_index()[0:10]\n",
    "compare = count2.reset_index()[0:10].join(dockN, lsuffix='usage#', rsuffix='dock#')\n",
    "compare.rename(columns={\"indexusage#\": \"station id\", \"start station id\": \"usage#\", \"indexdock#\":\"station id\", \"totalDocks\":\"dock#\"})\n"
   ]
  },
  {
   "cell_type": "code",
   "execution_count": 205,
   "metadata": {},
   "outputs": [
    {
     "name": "stdout",
     "output_type": "stream",
     "text": [
      "The oldest rider is 133 born in 1885\n",
      "The longest ride is 4829587 seconds, 1341.5519444444444 hours, 55.89799768518518 days (in a month )\n"
     ]
    }
   ],
   "source": [
    "#Some jokes\n",
    "print(\"The oldest rider is\",2018-citi['birth year'].min(),\"born in\", citi['birth year'].min())\n",
    "\n",
    "print(\"The longest ride is\", citi['tripduration'].max(), \"seconds,\", citi['tripduration'].max()/3600, \"hours,\", citi['tripduration'].max()/3600/24, \"days (in a month )\" )\n"
   ]
  },
  {
   "cell_type": "code",
   "execution_count": null,
   "metadata": {
    "collapsed": true
   },
   "outputs": [],
   "source": []
  }
 ],
 "metadata": {
  "kernelspec": {
   "display_name": "Python 3",
   "language": "python",
   "name": "python3"
  },
  "language_info": {
   "codemirror_mode": {
    "name": "ipython",
    "version": 3
   },
   "file_extension": ".py",
   "mimetype": "text/x-python",
   "name": "python",
   "nbconvert_exporter": "python",
   "pygments_lexer": "ipython3",
   "version": "3.6.3"
  }
 },
 "nbformat": 4,
 "nbformat_minor": 2
}
